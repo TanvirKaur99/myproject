{
 "cells": [
  {
   "cell_type": "code",
   "execution_count": 1,
   "id": "d7596dbe",
   "metadata": {
    "_cell_guid": "b1076dfc-b9ad-4769-8c92-a6c4dae69d19",
    "_uuid": "8f2839f25d086af736a60e9eeb907d3b93b6e0e5",
    "execution": {
     "iopub.execute_input": "2025-05-07T05:57:05.932558Z",
     "iopub.status.busy": "2025-05-07T05:57:05.932173Z",
     "iopub.status.idle": "2025-05-07T05:57:05.936572Z",
     "shell.execute_reply": "2025-05-07T05:57:05.935910Z"
    },
    "papermill": {
     "duration": 0.008549,
     "end_time": "2025-05-07T05:57:05.937834",
     "exception": false,
     "start_time": "2025-05-07T05:57:05.929285",
     "status": "completed"
    },
    "tags": []
   },
   "outputs": [],
   "source": [
    "# This is my first notebook"
   ]
  }
 ],
 "metadata": {
  "kaggle": {
   "accelerator": "none",
   "dataSources": [],
   "isGpuEnabled": false,
   "isInternetEnabled": false,
   "language": "python",
   "sourceType": "notebook"
  },
  "kernelspec": {
   "display_name": "Python 3",
   "language": "python",
   "name": "python3"
  },
  "language_info": {
   "codemirror_mode": {
    "name": "ipython",
    "version": 3
   },
   "file_extension": ".py",
   "mimetype": "text/x-python",
   "name": "python",
   "nbconvert_exporter": "python",
   "pygments_lexer": "ipython3",
   "version": "3.11.11"
  },
  "papermill": {
   "default_parameters": {},
   "duration": 5.06235,
   "end_time": "2025-05-07T05:57:06.357637",
   "environment_variables": {},
   "exception": null,
   "input_path": "__notebook__.ipynb",
   "output_path": "__notebook__.ipynb",
   "parameters": {},
   "start_time": "2025-05-07T05:57:01.295287",
   "version": "2.6.0"
  }
 },
 "nbformat": 4,
 "nbformat_minor": 5
}
